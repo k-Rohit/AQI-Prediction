{
 "cells": [
  {
   "cell_type": "code",
   "execution_count": 59,
   "metadata": {},
   "outputs": [],
   "source": [
    "import pandas as pd\n",
    "import pickle\n",
    "import plotly.graph_objects as go\n",
    "import plotly.express as px\n",
    "import seaborn as sns\n",
    "import matplotlib.pyplot as plt\n",
    "from sklearn.model_selection import train_test_split\n",
    "from sklearn.linear_model import LinearRegression\n",
    "from sklearn.preprocessing import StandardScaler\n",
    "from sklearn.metrics import mean_squared_error, r2_score\n",
    "from sklearn.ensemble import RandomForestRegressor"
   ]
  },
  {
   "cell_type": "code",
   "execution_count": 10,
   "metadata": {},
   "outputs": [],
   "source": [
    "data = pd.read_csv(\"/Users/kumarrohit/Desktop/AQI - Prediction/data/processed/raw_dataframe.csv\")\n",
    "data.head()\n",
    "data.rename(columns={'datetime':'Timestamp'},inplace=True)"
   ]
  },
  {
   "cell_type": "code",
   "execution_count": 11,
   "metadata": {},
   "outputs": [
    {
     "data": {
      "text/html": [
       "<div>\n",
       "<style scoped>\n",
       "    .dataframe tbody tr th:only-of-type {\n",
       "        vertical-align: middle;\n",
       "    }\n",
       "\n",
       "    .dataframe tbody tr th {\n",
       "        vertical-align: top;\n",
       "    }\n",
       "\n",
       "    .dataframe thead th {\n",
       "        text-align: right;\n",
       "    }\n",
       "</style>\n",
       "<table border=\"1\" class=\"dataframe\">\n",
       "  <thead>\n",
       "    <tr style=\"text-align: right;\">\n",
       "      <th></th>\n",
       "      <th>Timestamp</th>\n",
       "      <th>nh3</th>\n",
       "      <th>pm10</th>\n",
       "      <th>pm2_5</th>\n",
       "      <th>so2</th>\n",
       "      <th>o3</th>\n",
       "      <th>no2</th>\n",
       "      <th>co</th>\n",
       "      <th>aqi</th>\n",
       "    </tr>\n",
       "  </thead>\n",
       "  <tbody>\n",
       "    <tr>\n",
       "      <th>0</th>\n",
       "      <td>2024-01-20 20:00:00</td>\n",
       "      <td>4.31</td>\n",
       "      <td>267.79</td>\n",
       "      <td>249.84</td>\n",
       "      <td>7.03</td>\n",
       "      <td>60.80</td>\n",
       "      <td>16.11</td>\n",
       "      <td>1214.98</td>\n",
       "      <td>5</td>\n",
       "    </tr>\n",
       "    <tr>\n",
       "      <th>1</th>\n",
       "      <td>2024-01-20 21:00:00</td>\n",
       "      <td>4.31</td>\n",
       "      <td>264.07</td>\n",
       "      <td>247.57</td>\n",
       "      <td>6.91</td>\n",
       "      <td>55.79</td>\n",
       "      <td>15.42</td>\n",
       "      <td>1201.63</td>\n",
       "      <td>5</td>\n",
       "    </tr>\n",
       "    <tr>\n",
       "      <th>2</th>\n",
       "      <td>2024-01-20 22:00:00</td>\n",
       "      <td>4.31</td>\n",
       "      <td>261.30</td>\n",
       "      <td>245.67</td>\n",
       "      <td>6.56</td>\n",
       "      <td>50.78</td>\n",
       "      <td>14.91</td>\n",
       "      <td>1201.63</td>\n",
       "      <td>5</td>\n",
       "    </tr>\n",
       "    <tr>\n",
       "      <th>3</th>\n",
       "      <td>2024-01-20 23:00:00</td>\n",
       "      <td>4.31</td>\n",
       "      <td>260.32</td>\n",
       "      <td>245.33</td>\n",
       "      <td>6.20</td>\n",
       "      <td>44.35</td>\n",
       "      <td>15.08</td>\n",
       "      <td>1214.98</td>\n",
       "      <td>5</td>\n",
       "    </tr>\n",
       "    <tr>\n",
       "      <th>4</th>\n",
       "      <td>2024-01-21 00:00:00</td>\n",
       "      <td>4.43</td>\n",
       "      <td>260.79</td>\n",
       "      <td>247.17</td>\n",
       "      <td>6.14</td>\n",
       "      <td>37.91</td>\n",
       "      <td>15.59</td>\n",
       "      <td>1228.33</td>\n",
       "      <td>5</td>\n",
       "    </tr>\n",
       "    <tr>\n",
       "      <th>...</th>\n",
       "      <td>...</td>\n",
       "      <td>...</td>\n",
       "      <td>...</td>\n",
       "      <td>...</td>\n",
       "      <td>...</td>\n",
       "      <td>...</td>\n",
       "      <td>...</td>\n",
       "      <td>...</td>\n",
       "      <td>...</td>\n",
       "    </tr>\n",
       "    <tr>\n",
       "      <th>8611</th>\n",
       "      <td>2024-07-27 15:00:00</td>\n",
       "      <td>6.14</td>\n",
       "      <td>8.87</td>\n",
       "      <td>5.72</td>\n",
       "      <td>9.89</td>\n",
       "      <td>57.22</td>\n",
       "      <td>9.34</td>\n",
       "      <td>353.81</td>\n",
       "      <td>1</td>\n",
       "    </tr>\n",
       "    <tr>\n",
       "      <th>8612</th>\n",
       "      <td>2024-07-27 16:00:00</td>\n",
       "      <td>6.27</td>\n",
       "      <td>10.44</td>\n",
       "      <td>6.85</td>\n",
       "      <td>11.21</td>\n",
       "      <td>54.36</td>\n",
       "      <td>10.45</td>\n",
       "      <td>360.49</td>\n",
       "      <td>1</td>\n",
       "    </tr>\n",
       "    <tr>\n",
       "      <th>8613</th>\n",
       "      <td>2024-07-27 17:00:00</td>\n",
       "      <td>6.14</td>\n",
       "      <td>11.54</td>\n",
       "      <td>7.70</td>\n",
       "      <td>11.09</td>\n",
       "      <td>50.78</td>\n",
       "      <td>10.88</td>\n",
       "      <td>367.16</td>\n",
       "      <td>1</td>\n",
       "    </tr>\n",
       "    <tr>\n",
       "      <th>8614</th>\n",
       "      <td>2024-07-27 18:00:00</td>\n",
       "      <td>5.76</td>\n",
       "      <td>11.09</td>\n",
       "      <td>7.54</td>\n",
       "      <td>9.78</td>\n",
       "      <td>47.92</td>\n",
       "      <td>10.45</td>\n",
       "      <td>367.16</td>\n",
       "      <td>1</td>\n",
       "    </tr>\n",
       "    <tr>\n",
       "      <th>8615</th>\n",
       "      <td>2024-07-27 19:00:00</td>\n",
       "      <td>5.57</td>\n",
       "      <td>10.68</td>\n",
       "      <td>7.53</td>\n",
       "      <td>8.70</td>\n",
       "      <td>45.42</td>\n",
       "      <td>9.68</td>\n",
       "      <td>363.83</td>\n",
       "      <td>1</td>\n",
       "    </tr>\n",
       "  </tbody>\n",
       "</table>\n",
       "<p>8616 rows × 9 columns</p>\n",
       "</div>"
      ],
      "text/plain": [
       "                Timestamp   nh3    pm10   pm2_5    so2     o3    no2       co  \\\n",
       "0     2024-01-20 20:00:00  4.31  267.79  249.84   7.03  60.80  16.11  1214.98   \n",
       "1     2024-01-20 21:00:00  4.31  264.07  247.57   6.91  55.79  15.42  1201.63   \n",
       "2     2024-01-20 22:00:00  4.31  261.30  245.67   6.56  50.78  14.91  1201.63   \n",
       "3     2024-01-20 23:00:00  4.31  260.32  245.33   6.20  44.35  15.08  1214.98   \n",
       "4     2024-01-21 00:00:00  4.43  260.79  247.17   6.14  37.91  15.59  1228.33   \n",
       "...                   ...   ...     ...     ...    ...    ...    ...      ...   \n",
       "8611  2024-07-27 15:00:00  6.14    8.87    5.72   9.89  57.22   9.34   353.81   \n",
       "8612  2024-07-27 16:00:00  6.27   10.44    6.85  11.21  54.36  10.45   360.49   \n",
       "8613  2024-07-27 17:00:00  6.14   11.54    7.70  11.09  50.78  10.88   367.16   \n",
       "8614  2024-07-27 18:00:00  5.76   11.09    7.54   9.78  47.92  10.45   367.16   \n",
       "8615  2024-07-27 19:00:00  5.57   10.68    7.53   8.70  45.42   9.68   363.83   \n",
       "\n",
       "      aqi  \n",
       "0       5  \n",
       "1       5  \n",
       "2       5  \n",
       "3       5  \n",
       "4       5  \n",
       "...   ...  \n",
       "8611    1  \n",
       "8612    1  \n",
       "8613    1  \n",
       "8614    1  \n",
       "8615    1  \n",
       "\n",
       "[8616 rows x 9 columns]"
      ]
     },
     "execution_count": 11,
     "metadata": {},
     "output_type": "execute_result"
    }
   ],
   "source": [
    "data.drop(\"Unnamed: 0\",axis=1)"
   ]
  },
  {
   "cell_type": "code",
   "execution_count": 16,
   "metadata": {},
   "outputs": [],
   "source": [
    "data['Timestamp'] = pd.to_datetime(data['Timestamp'], format='%Y-%m-%d %H:%M:%S')\n",
    "data['date'] = data['Timestamp'].dt.date"
   ]
  },
  {
   "cell_type": "code",
   "execution_count": null,
   "metadata": {},
   "outputs": [],
   "source": [
    "daily_average = data.groupby('date').mean()[['aqi', 'pm2_5', 'pm10', 'co', 'no2', 'o3', 'so2', 'nh3']]\n",
    "daily_average = daily_average.reset_index()"
   ]
  },
  {
   "cell_type": "code",
   "execution_count": 22,
   "metadata": {},
   "outputs": [
    {
     "data": {
      "text/plain": [
       "(365, 9)"
      ]
     },
     "execution_count": 22,
     "metadata": {},
     "output_type": "execute_result"
    }
   ],
   "source": [
    "daily_average.shape"
   ]
  },
  {
   "cell_type": "code",
   "execution_count": 23,
   "metadata": {},
   "outputs": [
    {
     "data": {
      "text/html": [
       "<div>\n",
       "<style scoped>\n",
       "    .dataframe tbody tr th:only-of-type {\n",
       "        vertical-align: middle;\n",
       "    }\n",
       "\n",
       "    .dataframe tbody tr th {\n",
       "        vertical-align: top;\n",
       "    }\n",
       "\n",
       "    .dataframe thead th {\n",
       "        text-align: right;\n",
       "    }\n",
       "</style>\n",
       "<table border=\"1\" class=\"dataframe\">\n",
       "  <thead>\n",
       "    <tr style=\"text-align: right;\">\n",
       "      <th></th>\n",
       "      <th>date</th>\n",
       "      <th>aqi</th>\n",
       "      <th>pm2_5</th>\n",
       "      <th>pm10</th>\n",
       "      <th>co</th>\n",
       "      <th>no2</th>\n",
       "      <th>o3</th>\n",
       "      <th>so2</th>\n",
       "      <th>nh3</th>\n",
       "    </tr>\n",
       "  </thead>\n",
       "  <tbody>\n",
       "    <tr>\n",
       "      <th>0</th>\n",
       "      <td>2023-09-08</td>\n",
       "      <td>3.000000</td>\n",
       "      <td>37.227500</td>\n",
       "      <td>39.490000</td>\n",
       "      <td>664.232500</td>\n",
       "      <td>25.017500</td>\n",
       "      <td>8.225000</td>\n",
       "      <td>16.957500</td>\n",
       "      <td>1.797500</td>\n",
       "    </tr>\n",
       "    <tr>\n",
       "      <th>1</th>\n",
       "      <td>2023-09-09</td>\n",
       "      <td>3.000000</td>\n",
       "      <td>36.062083</td>\n",
       "      <td>40.326250</td>\n",
       "      <td>738.779167</td>\n",
       "      <td>19.871250</td>\n",
       "      <td>20.865000</td>\n",
       "      <td>14.727917</td>\n",
       "      <td>3.044583</td>\n",
       "    </tr>\n",
       "    <tr>\n",
       "      <th>2</th>\n",
       "      <td>2023-09-10</td>\n",
       "      <td>4.791667</td>\n",
       "      <td>108.428333</td>\n",
       "      <td>121.909167</td>\n",
       "      <td>863.671250</td>\n",
       "      <td>17.486250</td>\n",
       "      <td>59.418333</td>\n",
       "      <td>14.727083</td>\n",
       "      <td>5.576250</td>\n",
       "    </tr>\n",
       "    <tr>\n",
       "      <th>3</th>\n",
       "      <td>2023-09-11</td>\n",
       "      <td>5.000000</td>\n",
       "      <td>168.092500</td>\n",
       "      <td>186.558750</td>\n",
       "      <td>1215.816250</td>\n",
       "      <td>23.831667</td>\n",
       "      <td>79.363333</td>\n",
       "      <td>21.110833</td>\n",
       "      <td>7.144167</td>\n",
       "    </tr>\n",
       "    <tr>\n",
       "      <th>4</th>\n",
       "      <td>2023-09-12</td>\n",
       "      <td>5.000000</td>\n",
       "      <td>116.882917</td>\n",
       "      <td>127.404167</td>\n",
       "      <td>935.157083</td>\n",
       "      <td>21.599167</td>\n",
       "      <td>60.142917</td>\n",
       "      <td>21.984583</td>\n",
       "      <td>3.995000</td>\n",
       "    </tr>\n",
       "  </tbody>\n",
       "</table>\n",
       "</div>"
      ],
      "text/plain": [
       "         date       aqi       pm2_5        pm10           co        no2  \\\n",
       "0  2023-09-08  3.000000   37.227500   39.490000   664.232500  25.017500   \n",
       "1  2023-09-09  3.000000   36.062083   40.326250   738.779167  19.871250   \n",
       "2  2023-09-10  4.791667  108.428333  121.909167   863.671250  17.486250   \n",
       "3  2023-09-11  5.000000  168.092500  186.558750  1215.816250  23.831667   \n",
       "4  2023-09-12  5.000000  116.882917  127.404167   935.157083  21.599167   \n",
       "\n",
       "          o3        so2       nh3  \n",
       "0   8.225000  16.957500  1.797500  \n",
       "1  20.865000  14.727917  3.044583  \n",
       "2  59.418333  14.727083  5.576250  \n",
       "3  79.363333  21.110833  7.144167  \n",
       "4  60.142917  21.984583  3.995000  "
      ]
     },
     "execution_count": 23,
     "metadata": {},
     "output_type": "execute_result"
    }
   ],
   "source": [
    "daily_average.head()"
   ]
  },
  {
   "cell_type": "code",
   "execution_count": 24,
   "metadata": {},
   "outputs": [],
   "source": [
    "daily_average.to_csv(\"/Users/kumarrohit/Desktop/AQI - Prediction/data/processed/averaged.csv\")"
   ]
  },
  {
   "cell_type": "code",
   "execution_count": 25,
   "metadata": {},
   "outputs": [
    {
     "data": {
      "text/plain": [
       "date     0\n",
       "aqi      0\n",
       "pm2_5    0\n",
       "pm10     0\n",
       "co       0\n",
       "no2      0\n",
       "o3       0\n",
       "so2      0\n",
       "nh3      0\n",
       "dtype: int64"
      ]
     },
     "execution_count": 25,
     "metadata": {},
     "output_type": "execute_result"
    }
   ],
   "source": [
    "daily_average.isnull().sum()"
   ]
  },
  {
   "cell_type": "code",
   "execution_count": 36,
   "metadata": {},
   "outputs": [
    {
     "data": {
      "image/png": "[encoded data removed]",
      "text/plain": [
       "<Figure size 1200x800 with 1 Axes>"
      ]
     },
     "metadata": {},
     "output_type": "display_data"
    }
   ],
   "source": [
    "plt.figure(figsize=(12, 8))\n",
    "sns.boxplot(data=daily_average.iloc[:, 1:])  # Exclude 'date' column\n",
    "\n",
    "plt.title('Box Plots for Each Column')\n",
    "plt.xlabel('Column')\n",
    "plt.ylabel('Value')\n",
    "plt.xticks(rotation=45)\n",
    "plt.show()"
   ]
  },
  {
   "cell_type": "code",
   "execution_count": 37,
   "metadata": {},
   "outputs": [],
   "source": [
    "df = daily_average.drop(\"date\",axis=1)"
   ]
  },
  {
   "cell_type": "code",
   "execution_count": 40,
   "metadata": {},
   "outputs": [],
   "source": [
    "X = df.drop(\"aqi\",axis=1)\n",
    "y = df['aqi']"
   ]
  },
  {
   "cell_type": "code",
   "execution_count": 45,
   "metadata": {},
   "outputs": [],
   "source": [
    "X_train, X_test, y_train, y_test = train_test_split(X,y,random_state=42,test_size=0.8)"
   ]
  },
  {
   "cell_type": "code",
   "execution_count": 47,
   "metadata": {},
   "outputs": [],
   "source": [
    "sc = StandardScaler()\n",
    "X_train_scaled = sc.fit_transform(X_train)\n",
    "X_test_scaled = sc.transform(X_test)"
   ]
  },
  {
   "cell_type": "code",
   "execution_count": 57,
   "metadata": {},
   "outputs": [
    {
     "name": "stdout",
     "output_type": "stream",
     "text": [
      "Mean Squared Error: 0.03\n",
      "R^2 Score: 0.96\n"
     ]
    }
   ],
   "source": [
    "\n",
    "model = RandomForestRegressor(n_estimators=100, random_state=42)\n",
    "\n",
    "model.fit(X_train_scaled, y_train)\n",
    "y_pred = model.predict(X_test_scaled)\n",
    "\n",
    "mse = mean_squared_error(y_test, y_pred)\n",
    "r2 = r2_score(y_test, y_pred)\n",
    "\n",
    "print(f\"Mean Squared Error: {mse:.2f}\")\n",
    "print(f\"R^2 Score: {r2:.2f}\")"
   ]
  },
  {
   "cell_type": "code",
   "execution_count": 58,
   "metadata": {},
   "outputs": [
    {
     "name": "stdout",
     "output_type": "stream",
     "text": [
      "Cross-Validation R^2 Scores: [0.92007556 0.91900087 0.96007925 0.96440566 0.32961742]\n",
      "Mean R^2 Score: 0.82\n",
      "Standard Deviation of R^2 Scores: 0.25\n",
      "Cross-Validation MSE Scores: [0.03224482 0.11563875 0.02843808 0.02817665 0.26158507]\n",
      "Mean MSE Score: 0.09\n",
      "Standard Deviation of MSE Scores: -0.09\n"
     ]
    }
   ],
   "source": [
    "from sklearn.model_selection import cross_validate\n",
    "\n",
    "# Initialize the RandomForestRegressor\n",
    "model = RandomForestRegressor(n_estimators=100, random_state=42)\n",
    "\n",
    "# Apply cross-validation\n",
    "cv_results = cross_validate(model, X_train_scaled, y_train, cv=5, scoring=['r2', 'neg_mean_squared_error'], return_train_score=False)\n",
    "\n",
    "# Print the results\n",
    "print(f\"Cross-Validation R^2 Scores: {cv_results['test_r2']}\")\n",
    "print(f\"Mean R^2 Score: {cv_results['test_r2'].mean():.2f}\")\n",
    "print(f\"Standard Deviation of R^2 Scores: {cv_results['test_r2'].std():.2f}\")\n",
    "\n",
    "print(f\"Cross-Validation MSE Scores: {-cv_results['test_neg_mean_squared_error']}\")\n",
    "print(f\"Mean MSE Score: {-cv_results['test_neg_mean_squared_error'].mean():.2f}\")\n",
    "print(f\"Standard Deviation of MSE Scores: {-cv_results['test_neg_mean_squared_error'].std():.2f}\")\n"
   ]
  },
  {
   "cell_type": "code",
   "execution_count": 61,
   "metadata": {},
   "outputs": [],
   "source": [
    "filename = 'random_forest_pre.pkl'\n",
    "with open(filename,'wb') as f:\n",
    "    pickle.dump(model,f)"
   ]
  },
  {
   "cell_type": "code",
   "execution_count": null,
   "metadata": {},
   "outputs": [],
   "source": []
  }
 ],
 "metadata": {
  "kernelspec": {
   "display_name": "ml",
   "language": "python",
   "name": "python3"
  },
  "language_info": {
   "codemirror_mode": {
    "name": "ipython",
    "version": 3
   },
   "file_extension": ".py",
   "mimetype": "text/x-python",
   "name": "python",
   "nbconvert_exporter": "python",
   "pygments_lexer": "ipython3",
   "version": "3.9.15"
  },
  "orig_nbformat": 4,
  "vscode": {
   "interpreter": {
    "hash": "004f67742dab10302625fae45e5600b05f1188db265e9fd73c0f303fae8bc9c7"
   }
  }
 },
 "nbformat": 4,
 "nbformat_minor": 2
}
